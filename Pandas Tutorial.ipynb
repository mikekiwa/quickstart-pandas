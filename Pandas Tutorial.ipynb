{
 "cells": [
  {
   "cell_type": "markdown",
   "metadata": {},
   "source": [
    "# Getting Started with Jupyter Notebooks, Pandas and More\n"
   ]
  },
  {
   "cell_type": "markdown",
   "metadata": {},
   "source": [
    "** The goal of this notebook is to help you quickly get started analyzing and visulizing any data set using Python and Jupyter Notebooks. **"
   ]
  },
  {
   "cell_type": "markdown",
   "metadata": {},
   "source": [
    "### Importing libraries and setup"
   ]
  },
  {
   "cell_type": "markdown",
   "metadata": {},
   "source": [
    "**The following libraries will be imported**:\n",
    "* pandas http://pandas.pydata.org/pandas-docs/stable/tutorials.html\n",
    "* numpy https://docs.scipy.org/doc/numpy-dev/user/quickstart.html\n",
    "* matplotlib https://matplotlib.org/tutorials/introductory/pyplot.html#sphx-glr-tutorials-introductory-pyplot-py"
   ]
  },
  {
   "cell_type": "markdown",
   "metadata": {},
   "source": [
    "** %matplotlib inline** is on of the many **_magic_** commands http://ipython.readthedocs.io/en/stable/interactive/magics.html"
   ]
  },
  {
   "cell_type": "code",
   "execution_count": 3,
   "metadata": {
    "collapsed": true
   },
   "outputs": [],
   "source": [
    "import pandas as pd\n",
    "import numpy as np\n",
    "import matplotlib.pyplot as plt\n",
    "\n",
    "%matplotlib inline"
   ]
  },
  {
   "cell_type": "markdown",
   "metadata": {},
   "source": [
    "### Reading the CSV into a pandas.DataFrame"
   ]
  },
  {
   "cell_type": "code",
   "execution_count": 4,
   "metadata": {
    "collapsed": true
   },
   "outputs": [],
   "source": [
    "df = pd.read_csv('data.csv')"
   ]
  },
  {
   "cell_type": "markdown",
   "metadata": {},
   "source": [
    "Pandas DataFrames are built on top of pandas.Series objects:\n",
    "https://pandas.pydata.org/pandas-docs/stable/dsintro.html\n",
    "\n",
    "The tl;dr is they are very similar to numpy arrays. \n",
    "\n",
    "The DataFrames can be thought of like an Excel spreadsheet (pandas can also import .xlsx files). The thing to keep in mind is each column represents a uniform data type."
   ]
  },
  {
   "cell_type": "markdown",
   "metadata": {},
   "source": [
    "### Exploring the data"
   ]
  },
  {
   "cell_type": "code",
   "execution_count": 5,
   "metadata": {},
   "outputs": [
    {
     "data": {
      "text/html": [
       "<div>\n",
       "<style>\n",
       "    .dataframe thead tr:only-child th {\n",
       "        text-align: right;\n",
       "    }\n",
       "\n",
       "    .dataframe thead th {\n",
       "        text-align: left;\n",
       "    }\n",
       "\n",
       "    .dataframe tbody tr th {\n",
       "        vertical-align: top;\n",
       "    }\n",
       "</style>\n",
       "<table border=\"1\" class=\"dataframe\">\n",
       "  <thead>\n",
       "    <tr style=\"text-align: right;\">\n",
       "      <th></th>\n",
       "      <th>time</th>\n",
       "      <th>channel</th>\n",
       "      <th>temperature_F</th>\n",
       "      <th>humidity</th>\n",
       "    </tr>\n",
       "  </thead>\n",
       "  <tbody>\n",
       "    <tr>\n",
       "      <th>0</th>\n",
       "      <td>2018-01-02 00:00:33</td>\n",
       "      <td>8</td>\n",
       "      <td>11.9</td>\n",
       "      <td>46</td>\n",
       "    </tr>\n",
       "    <tr>\n",
       "      <th>1</th>\n",
       "      <td>2018-01-02 00:01:52</td>\n",
       "      <td>8</td>\n",
       "      <td>11.9</td>\n",
       "      <td>46</td>\n",
       "    </tr>\n",
       "    <tr>\n",
       "      <th>2</th>\n",
       "      <td>2018-01-02 00:03:12</td>\n",
       "      <td>8</td>\n",
       "      <td>11.9</td>\n",
       "      <td>46</td>\n",
       "    </tr>\n",
       "    <tr>\n",
       "      <th>3</th>\n",
       "      <td>2018-01-02 00:04:30</td>\n",
       "      <td>8</td>\n",
       "      <td>12.1</td>\n",
       "      <td>46</td>\n",
       "    </tr>\n",
       "    <tr>\n",
       "      <th>4</th>\n",
       "      <td>2018-01-02 00:05:49</td>\n",
       "      <td>8</td>\n",
       "      <td>12.1</td>\n",
       "      <td>46</td>\n",
       "    </tr>\n",
       "  </tbody>\n",
       "</table>\n",
       "</div>"
      ],
      "text/plain": [
       "                  time  channel  temperature_F  humidity\n",
       "0  2018-01-02 00:00:33        8           11.9        46\n",
       "1  2018-01-02 00:01:52        8           11.9        46\n",
       "2  2018-01-02 00:03:12        8           11.9        46\n",
       "3  2018-01-02 00:04:30        8           12.1        46\n",
       "4  2018-01-02 00:05:49        8           12.1        46"
      ]
     },
     "execution_count": 5,
     "metadata": {},
     "output_type": "execute_result"
    }
   ],
   "source": [
    "df.head()"
   ]
  },
  {
   "cell_type": "code",
   "execution_count": 6,
   "metadata": {},
   "outputs": [
    {
     "data": {
      "text/html": [
       "<div>\n",
       "<style>\n",
       "    .dataframe thead tr:only-child th {\n",
       "        text-align: right;\n",
       "    }\n",
       "\n",
       "    .dataframe thead th {\n",
       "        text-align: left;\n",
       "    }\n",
       "\n",
       "    .dataframe tbody tr th {\n",
       "        vertical-align: top;\n",
       "    }\n",
       "</style>\n",
       "<table border=\"1\" class=\"dataframe\">\n",
       "  <thead>\n",
       "    <tr style=\"text-align: right;\">\n",
       "      <th></th>\n",
       "      <th>count</th>\n",
       "      <th>mean</th>\n",
       "      <th>std</th>\n",
       "      <th>min</th>\n",
       "      <th>25%</th>\n",
       "      <th>50%</th>\n",
       "      <th>75%</th>\n",
       "      <th>max</th>\n",
       "    </tr>\n",
       "  </thead>\n",
       "  <tbody>\n",
       "    <tr>\n",
       "      <th>channel</th>\n",
       "      <td>1585.0</td>\n",
       "      <td>8.000000</td>\n",
       "      <td>0.000000</td>\n",
       "      <td>8.0</td>\n",
       "      <td>8.0</td>\n",
       "      <td>8.0</td>\n",
       "      <td>8.0</td>\n",
       "      <td>8.0</td>\n",
       "    </tr>\n",
       "    <tr>\n",
       "      <th>temperature_F</th>\n",
       "      <td>1585.0</td>\n",
       "      <td>14.557603</td>\n",
       "      <td>6.152407</td>\n",
       "      <td>4.7</td>\n",
       "      <td>10.6</td>\n",
       "      <td>12.8</td>\n",
       "      <td>19.0</td>\n",
       "      <td>29.0</td>\n",
       "    </tr>\n",
       "    <tr>\n",
       "      <th>humidity</th>\n",
       "      <td>1585.0</td>\n",
       "      <td>48.545110</td>\n",
       "      <td>5.106877</td>\n",
       "      <td>40.0</td>\n",
       "      <td>45.0</td>\n",
       "      <td>48.0</td>\n",
       "      <td>50.0</td>\n",
       "      <td>61.0</td>\n",
       "    </tr>\n",
       "  </tbody>\n",
       "</table>\n",
       "</div>"
      ],
      "text/plain": [
       "                count       mean       std   min   25%   50%   75%   max\n",
       "channel        1585.0   8.000000  0.000000   8.0   8.0   8.0   8.0   8.0\n",
       "temperature_F  1585.0  14.557603  6.152407   4.7  10.6  12.8  19.0  29.0\n",
       "humidity       1585.0  48.545110  5.106877  40.0  45.0  48.0  50.0  61.0"
      ]
     },
     "execution_count": 6,
     "metadata": {},
     "output_type": "execute_result"
    }
   ],
   "source": [
    "df.describe().transpose()"
   ]
  },
  {
   "cell_type": "markdown",
   "metadata": {},
   "source": [
    "The pandas.DataFrame.dtypes function returns a Series object of all the Python data types used by each of your colmuns. For example, your **time** column is stored internally as a **str** rather than a datetime object. This isn't the end of the world as Python will interpret the object's timeseries correctly.\n",
    "\n",
    "However, it will be helpful a few steps from now if the **time** column was actually a datetime."
   ]
  },
  {
   "cell_type": "code",
   "execution_count": 7,
   "metadata": {},
   "outputs": [
    {
     "data": {
      "text/plain": [
       "time              object\n",
       "channel            int64\n",
       "temperature_F    float64\n",
       "humidity           int64\n",
       "dtype: object"
      ]
     },
     "execution_count": 7,
     "metadata": {},
     "output_type": "execute_result"
    }
   ],
   "source": [
    "df.dtypes"
   ]
  },
  {
   "cell_type": "markdown",
   "metadata": {},
   "source": [
    "To change the column's type there's a few things to go through. First is calling specific columns or rows in your DataFrame.\n",
    "\n",
    "Calling your DataFrame in a cell will just dump the whole object."
   ]
  },
  {
   "cell_type": "code",
   "execution_count": 7,
   "metadata": {
    "scrolled": true
   },
   "outputs": [
    {
     "data": {
      "text/html": [
       "<div>\n",
       "<style>\n",
       "    .dataframe thead tr:only-child th {\n",
       "        text-align: right;\n",
       "    }\n",
       "\n",
       "    .dataframe thead th {\n",
       "        text-align: left;\n",
       "    }\n",
       "\n",
       "    .dataframe tbody tr th {\n",
       "        vertical-align: top;\n",
       "    }\n",
       "</style>\n",
       "<table border=\"1\" class=\"dataframe\">\n",
       "  <thead>\n",
       "    <tr style=\"text-align: right;\">\n",
       "      <th></th>\n",
       "      <th>time</th>\n",
       "      <th>channel</th>\n",
       "      <th>temperature_F</th>\n",
       "      <th>humidity</th>\n",
       "    </tr>\n",
       "  </thead>\n",
       "  <tbody>\n",
       "    <tr>\n",
       "      <th>0</th>\n",
       "      <td>2018-01-02 00:00:33</td>\n",
       "      <td>8</td>\n",
       "      <td>11.9</td>\n",
       "      <td>46</td>\n",
       "    </tr>\n",
       "    <tr>\n",
       "      <th>1</th>\n",
       "      <td>2018-01-02 00:01:52</td>\n",
       "      <td>8</td>\n",
       "      <td>11.9</td>\n",
       "      <td>46</td>\n",
       "    </tr>\n",
       "    <tr>\n",
       "      <th>2</th>\n",
       "      <td>2018-01-02 00:03:12</td>\n",
       "      <td>8</td>\n",
       "      <td>11.9</td>\n",
       "      <td>46</td>\n",
       "    </tr>\n",
       "    <tr>\n",
       "      <th>3</th>\n",
       "      <td>2018-01-02 00:04:30</td>\n",
       "      <td>8</td>\n",
       "      <td>12.1</td>\n",
       "      <td>46</td>\n",
       "    </tr>\n",
       "    <tr>\n",
       "      <th>4</th>\n",
       "      <td>2018-01-02 00:05:49</td>\n",
       "      <td>8</td>\n",
       "      <td>12.1</td>\n",
       "      <td>46</td>\n",
       "    </tr>\n",
       "    <tr>\n",
       "      <th>5</th>\n",
       "      <td>2018-01-02 00:07:09</td>\n",
       "      <td>8</td>\n",
       "      <td>12.1</td>\n",
       "      <td>46</td>\n",
       "    </tr>\n",
       "    <tr>\n",
       "      <th>6</th>\n",
       "      <td>2018-01-02 00:08:27</td>\n",
       "      <td>8</td>\n",
       "      <td>12.1</td>\n",
       "      <td>46</td>\n",
       "    </tr>\n",
       "    <tr>\n",
       "      <th>7</th>\n",
       "      <td>2018-01-02 00:09:46</td>\n",
       "      <td>8</td>\n",
       "      <td>12.1</td>\n",
       "      <td>46</td>\n",
       "    </tr>\n",
       "    <tr>\n",
       "      <th>8</th>\n",
       "      <td>2018-01-02 00:11:05</td>\n",
       "      <td>8</td>\n",
       "      <td>12.0</td>\n",
       "      <td>46</td>\n",
       "    </tr>\n",
       "    <tr>\n",
       "      <th>9</th>\n",
       "      <td>2018-01-02 00:12:24</td>\n",
       "      <td>8</td>\n",
       "      <td>12.1</td>\n",
       "      <td>46</td>\n",
       "    </tr>\n",
       "    <tr>\n",
       "      <th>10</th>\n",
       "      <td>2018-01-02 00:13:43</td>\n",
       "      <td>8</td>\n",
       "      <td>12.1</td>\n",
       "      <td>46</td>\n",
       "    </tr>\n",
       "    <tr>\n",
       "      <th>11</th>\n",
       "      <td>2018-01-02 00:15:02</td>\n",
       "      <td>8</td>\n",
       "      <td>12.1</td>\n",
       "      <td>46</td>\n",
       "    </tr>\n",
       "    <tr>\n",
       "      <th>12</th>\n",
       "      <td>2018-01-02 00:16:21</td>\n",
       "      <td>8</td>\n",
       "      <td>12.1</td>\n",
       "      <td>46</td>\n",
       "    </tr>\n",
       "    <tr>\n",
       "      <th>13</th>\n",
       "      <td>2018-01-02 00:17:40</td>\n",
       "      <td>8</td>\n",
       "      <td>12.1</td>\n",
       "      <td>46</td>\n",
       "    </tr>\n",
       "    <tr>\n",
       "      <th>14</th>\n",
       "      <td>2018-01-02 00:18:59</td>\n",
       "      <td>8</td>\n",
       "      <td>12.1</td>\n",
       "      <td>46</td>\n",
       "    </tr>\n",
       "    <tr>\n",
       "      <th>15</th>\n",
       "      <td>2018-01-02 00:20:18</td>\n",
       "      <td>8</td>\n",
       "      <td>12.1</td>\n",
       "      <td>46</td>\n",
       "    </tr>\n",
       "    <tr>\n",
       "      <th>16</th>\n",
       "      <td>2018-01-02 00:21:37</td>\n",
       "      <td>8</td>\n",
       "      <td>12.1</td>\n",
       "      <td>46</td>\n",
       "    </tr>\n",
       "    <tr>\n",
       "      <th>17</th>\n",
       "      <td>2018-01-02 00:22:56</td>\n",
       "      <td>8</td>\n",
       "      <td>12.1</td>\n",
       "      <td>46</td>\n",
       "    </tr>\n",
       "    <tr>\n",
       "      <th>18</th>\n",
       "      <td>2018-01-02 00:24:16</td>\n",
       "      <td>8</td>\n",
       "      <td>12.1</td>\n",
       "      <td>46</td>\n",
       "    </tr>\n",
       "    <tr>\n",
       "      <th>19</th>\n",
       "      <td>2018-01-02 00:25:34</td>\n",
       "      <td>8</td>\n",
       "      <td>12.1</td>\n",
       "      <td>46</td>\n",
       "    </tr>\n",
       "    <tr>\n",
       "      <th>20</th>\n",
       "      <td>2018-01-02 00:26:53</td>\n",
       "      <td>8</td>\n",
       "      <td>12.1</td>\n",
       "      <td>46</td>\n",
       "    </tr>\n",
       "    <tr>\n",
       "      <th>21</th>\n",
       "      <td>2018-01-02 00:28:12</td>\n",
       "      <td>8</td>\n",
       "      <td>12.1</td>\n",
       "      <td>46</td>\n",
       "    </tr>\n",
       "    <tr>\n",
       "      <th>22</th>\n",
       "      <td>2018-01-02 00:29:31</td>\n",
       "      <td>8</td>\n",
       "      <td>12.1</td>\n",
       "      <td>46</td>\n",
       "    </tr>\n",
       "    <tr>\n",
       "      <th>23</th>\n",
       "      <td>2018-01-02 00:30:50</td>\n",
       "      <td>8</td>\n",
       "      <td>12.1</td>\n",
       "      <td>46</td>\n",
       "    </tr>\n",
       "    <tr>\n",
       "      <th>24</th>\n",
       "      <td>2018-01-02 00:32:09</td>\n",
       "      <td>8</td>\n",
       "      <td>12.1</td>\n",
       "      <td>46</td>\n",
       "    </tr>\n",
       "    <tr>\n",
       "      <th>25</th>\n",
       "      <td>2018-01-02 00:33:28</td>\n",
       "      <td>8</td>\n",
       "      <td>12.0</td>\n",
       "      <td>46</td>\n",
       "    </tr>\n",
       "    <tr>\n",
       "      <th>26</th>\n",
       "      <td>2018-01-02 00:34:47</td>\n",
       "      <td>8</td>\n",
       "      <td>12.1</td>\n",
       "      <td>46</td>\n",
       "    </tr>\n",
       "    <tr>\n",
       "      <th>27</th>\n",
       "      <td>2018-01-02 00:36:06</td>\n",
       "      <td>8</td>\n",
       "      <td>12.1</td>\n",
       "      <td>46</td>\n",
       "    </tr>\n",
       "    <tr>\n",
       "      <th>28</th>\n",
       "      <td>2018-01-02 00:37:25</td>\n",
       "      <td>8</td>\n",
       "      <td>12.1</td>\n",
       "      <td>46</td>\n",
       "    </tr>\n",
       "    <tr>\n",
       "      <th>29</th>\n",
       "      <td>2018-01-02 00:38:44</td>\n",
       "      <td>8</td>\n",
       "      <td>12.0</td>\n",
       "      <td>46</td>\n",
       "    </tr>\n",
       "    <tr>\n",
       "      <th>...</th>\n",
       "      <td>...</td>\n",
       "      <td>...</td>\n",
       "      <td>...</td>\n",
       "      <td>...</td>\n",
       "    </tr>\n",
       "    <tr>\n",
       "      <th>1555</th>\n",
       "      <td>2018-01-03 10:47:26</td>\n",
       "      <td>8</td>\n",
       "      <td>18.6</td>\n",
       "      <td>59</td>\n",
       "    </tr>\n",
       "    <tr>\n",
       "      <th>1556</th>\n",
       "      <td>2018-01-03 10:48:45</td>\n",
       "      <td>8</td>\n",
       "      <td>18.7</td>\n",
       "      <td>59</td>\n",
       "    </tr>\n",
       "    <tr>\n",
       "      <th>1557</th>\n",
       "      <td>2018-01-03 10:50:04</td>\n",
       "      <td>8</td>\n",
       "      <td>18.8</td>\n",
       "      <td>59</td>\n",
       "    </tr>\n",
       "    <tr>\n",
       "      <th>1558</th>\n",
       "      <td>2018-01-03 10:51:23</td>\n",
       "      <td>8</td>\n",
       "      <td>18.9</td>\n",
       "      <td>58</td>\n",
       "    </tr>\n",
       "    <tr>\n",
       "      <th>1559</th>\n",
       "      <td>2018-01-03 10:52:42</td>\n",
       "      <td>8</td>\n",
       "      <td>19.0</td>\n",
       "      <td>58</td>\n",
       "    </tr>\n",
       "    <tr>\n",
       "      <th>1560</th>\n",
       "      <td>2018-01-03 10:54:01</td>\n",
       "      <td>8</td>\n",
       "      <td>19.0</td>\n",
       "      <td>58</td>\n",
       "    </tr>\n",
       "    <tr>\n",
       "      <th>1561</th>\n",
       "      <td>2018-01-03 10:55:20</td>\n",
       "      <td>8</td>\n",
       "      <td>19.1</td>\n",
       "      <td>58</td>\n",
       "    </tr>\n",
       "    <tr>\n",
       "      <th>1562</th>\n",
       "      <td>2018-01-03 10:56:39</td>\n",
       "      <td>8</td>\n",
       "      <td>19.1</td>\n",
       "      <td>58</td>\n",
       "    </tr>\n",
       "    <tr>\n",
       "      <th>1563</th>\n",
       "      <td>2018-01-03 10:57:58</td>\n",
       "      <td>8</td>\n",
       "      <td>19.3</td>\n",
       "      <td>58</td>\n",
       "    </tr>\n",
       "    <tr>\n",
       "      <th>1564</th>\n",
       "      <td>2018-01-03 10:59:17</td>\n",
       "      <td>8</td>\n",
       "      <td>19.4</td>\n",
       "      <td>58</td>\n",
       "    </tr>\n",
       "    <tr>\n",
       "      <th>1565</th>\n",
       "      <td>2018-01-03 11:00:36</td>\n",
       "      <td>8</td>\n",
       "      <td>19.5</td>\n",
       "      <td>58</td>\n",
       "    </tr>\n",
       "    <tr>\n",
       "      <th>1566</th>\n",
       "      <td>2018-01-03 11:01:55</td>\n",
       "      <td>8</td>\n",
       "      <td>19.5</td>\n",
       "      <td>57</td>\n",
       "    </tr>\n",
       "    <tr>\n",
       "      <th>1567</th>\n",
       "      <td>2018-01-03 11:03:14</td>\n",
       "      <td>8</td>\n",
       "      <td>19.5</td>\n",
       "      <td>57</td>\n",
       "    </tr>\n",
       "    <tr>\n",
       "      <th>1568</th>\n",
       "      <td>2018-01-03 11:04:33</td>\n",
       "      <td>8</td>\n",
       "      <td>19.6</td>\n",
       "      <td>57</td>\n",
       "    </tr>\n",
       "    <tr>\n",
       "      <th>1569</th>\n",
       "      <td>2018-01-03 11:05:52</td>\n",
       "      <td>8</td>\n",
       "      <td>19.6</td>\n",
       "      <td>57</td>\n",
       "    </tr>\n",
       "    <tr>\n",
       "      <th>1570</th>\n",
       "      <td>2018-01-03 11:07:11</td>\n",
       "      <td>8</td>\n",
       "      <td>19.8</td>\n",
       "      <td>57</td>\n",
       "    </tr>\n",
       "    <tr>\n",
       "      <th>1571</th>\n",
       "      <td>2018-01-03 11:08:30</td>\n",
       "      <td>8</td>\n",
       "      <td>19.9</td>\n",
       "      <td>57</td>\n",
       "    </tr>\n",
       "    <tr>\n",
       "      <th>1572</th>\n",
       "      <td>2018-01-03 11:09:49</td>\n",
       "      <td>8</td>\n",
       "      <td>20.0</td>\n",
       "      <td>57</td>\n",
       "    </tr>\n",
       "    <tr>\n",
       "      <th>1573</th>\n",
       "      <td>2018-01-03 11:11:08</td>\n",
       "      <td>8</td>\n",
       "      <td>20.1</td>\n",
       "      <td>57</td>\n",
       "    </tr>\n",
       "    <tr>\n",
       "      <th>1574</th>\n",
       "      <td>2018-01-03 11:12:27</td>\n",
       "      <td>8</td>\n",
       "      <td>20.3</td>\n",
       "      <td>57</td>\n",
       "    </tr>\n",
       "    <tr>\n",
       "      <th>1575</th>\n",
       "      <td>2018-01-03 11:15:05</td>\n",
       "      <td>8</td>\n",
       "      <td>20.4</td>\n",
       "      <td>57</td>\n",
       "    </tr>\n",
       "    <tr>\n",
       "      <th>1576</th>\n",
       "      <td>2018-01-03 11:16:24</td>\n",
       "      <td>8</td>\n",
       "      <td>20.4</td>\n",
       "      <td>57</td>\n",
       "    </tr>\n",
       "    <tr>\n",
       "      <th>1577</th>\n",
       "      <td>2018-01-03 11:17:43</td>\n",
       "      <td>8</td>\n",
       "      <td>20.4</td>\n",
       "      <td>57</td>\n",
       "    </tr>\n",
       "    <tr>\n",
       "      <th>1578</th>\n",
       "      <td>2018-01-03 11:19:02</td>\n",
       "      <td>8</td>\n",
       "      <td>20.4</td>\n",
       "      <td>57</td>\n",
       "    </tr>\n",
       "    <tr>\n",
       "      <th>1579</th>\n",
       "      <td>2018-01-03 11:20:21</td>\n",
       "      <td>8</td>\n",
       "      <td>20.4</td>\n",
       "      <td>57</td>\n",
       "    </tr>\n",
       "    <tr>\n",
       "      <th>1580</th>\n",
       "      <td>2018-01-03 11:21:40</td>\n",
       "      <td>8</td>\n",
       "      <td>20.6</td>\n",
       "      <td>57</td>\n",
       "    </tr>\n",
       "    <tr>\n",
       "      <th>1581</th>\n",
       "      <td>2018-01-03 11:22:59</td>\n",
       "      <td>8</td>\n",
       "      <td>20.7</td>\n",
       "      <td>57</td>\n",
       "    </tr>\n",
       "    <tr>\n",
       "      <th>1582</th>\n",
       "      <td>2018-01-03 11:24:18</td>\n",
       "      <td>8</td>\n",
       "      <td>20.8</td>\n",
       "      <td>57</td>\n",
       "    </tr>\n",
       "    <tr>\n",
       "      <th>1583</th>\n",
       "      <td>2018-01-03 11:25:37</td>\n",
       "      <td>8</td>\n",
       "      <td>20.9</td>\n",
       "      <td>57</td>\n",
       "    </tr>\n",
       "    <tr>\n",
       "      <th>1584</th>\n",
       "      <td>2018-01-03 11:26:56</td>\n",
       "      <td>8</td>\n",
       "      <td>20.9</td>\n",
       "      <td>57</td>\n",
       "    </tr>\n",
       "  </tbody>\n",
       "</table>\n",
       "<p>1585 rows × 4 columns</p>\n",
       "</div>"
      ],
      "text/plain": [
       "                     time  channel  temperature_F  humidity\n",
       "0     2018-01-02 00:00:33        8           11.9        46\n",
       "1     2018-01-02 00:01:52        8           11.9        46\n",
       "2     2018-01-02 00:03:12        8           11.9        46\n",
       "3     2018-01-02 00:04:30        8           12.1        46\n",
       "4     2018-01-02 00:05:49        8           12.1        46\n",
       "5     2018-01-02 00:07:09        8           12.1        46\n",
       "6     2018-01-02 00:08:27        8           12.1        46\n",
       "7     2018-01-02 00:09:46        8           12.1        46\n",
       "8     2018-01-02 00:11:05        8           12.0        46\n",
       "9     2018-01-02 00:12:24        8           12.1        46\n",
       "10    2018-01-02 00:13:43        8           12.1        46\n",
       "11    2018-01-02 00:15:02        8           12.1        46\n",
       "12    2018-01-02 00:16:21        8           12.1        46\n",
       "13    2018-01-02 00:17:40        8           12.1        46\n",
       "14    2018-01-02 00:18:59        8           12.1        46\n",
       "15    2018-01-02 00:20:18        8           12.1        46\n",
       "16    2018-01-02 00:21:37        8           12.1        46\n",
       "17    2018-01-02 00:22:56        8           12.1        46\n",
       "18    2018-01-02 00:24:16        8           12.1        46\n",
       "19    2018-01-02 00:25:34        8           12.1        46\n",
       "20    2018-01-02 00:26:53        8           12.1        46\n",
       "21    2018-01-02 00:28:12        8           12.1        46\n",
       "22    2018-01-02 00:29:31        8           12.1        46\n",
       "23    2018-01-02 00:30:50        8           12.1        46\n",
       "24    2018-01-02 00:32:09        8           12.1        46\n",
       "25    2018-01-02 00:33:28        8           12.0        46\n",
       "26    2018-01-02 00:34:47        8           12.1        46\n",
       "27    2018-01-02 00:36:06        8           12.1        46\n",
       "28    2018-01-02 00:37:25        8           12.1        46\n",
       "29    2018-01-02 00:38:44        8           12.0        46\n",
       "...                   ...      ...            ...       ...\n",
       "1555  2018-01-03 10:47:26        8           18.6        59\n",
       "1556  2018-01-03 10:48:45        8           18.7        59\n",
       "1557  2018-01-03 10:50:04        8           18.8        59\n",
       "1558  2018-01-03 10:51:23        8           18.9        58\n",
       "1559  2018-01-03 10:52:42        8           19.0        58\n",
       "1560  2018-01-03 10:54:01        8           19.0        58\n",
       "1561  2018-01-03 10:55:20        8           19.1        58\n",
       "1562  2018-01-03 10:56:39        8           19.1        58\n",
       "1563  2018-01-03 10:57:58        8           19.3        58\n",
       "1564  2018-01-03 10:59:17        8           19.4        58\n",
       "1565  2018-01-03 11:00:36        8           19.5        58\n",
       "1566  2018-01-03 11:01:55        8           19.5        57\n",
       "1567  2018-01-03 11:03:14        8           19.5        57\n",
       "1568  2018-01-03 11:04:33        8           19.6        57\n",
       "1569  2018-01-03 11:05:52        8           19.6        57\n",
       "1570  2018-01-03 11:07:11        8           19.8        57\n",
       "1571  2018-01-03 11:08:30        8           19.9        57\n",
       "1572  2018-01-03 11:09:49        8           20.0        57\n",
       "1573  2018-01-03 11:11:08        8           20.1        57\n",
       "1574  2018-01-03 11:12:27        8           20.3        57\n",
       "1575  2018-01-03 11:15:05        8           20.4        57\n",
       "1576  2018-01-03 11:16:24        8           20.4        57\n",
       "1577  2018-01-03 11:17:43        8           20.4        57\n",
       "1578  2018-01-03 11:19:02        8           20.4        57\n",
       "1579  2018-01-03 11:20:21        8           20.4        57\n",
       "1580  2018-01-03 11:21:40        8           20.6        57\n",
       "1581  2018-01-03 11:22:59        8           20.7        57\n",
       "1582  2018-01-03 11:24:18        8           20.8        57\n",
       "1583  2018-01-03 11:25:37        8           20.9        57\n",
       "1584  2018-01-03 11:26:56        8           20.9        57\n",
       "\n",
       "[1585 rows x 4 columns]"
      ]
     },
     "execution_count": 7,
     "metadata": {},
     "output_type": "execute_result"
    }
   ],
   "source": [
    "df"
   ]
  },
  {
   "cell_type": "markdown",
   "metadata": {},
   "source": [
    "To call specficially the **time** column I'm going to use **\"[\"** and **\"]\"** to pass the column name."
   ]
  },
  {
   "cell_type": "code",
   "execution_count": 28,
   "metadata": {
    "scrolled": true
   },
   "outputs": [
    {
     "data": {
      "text/plain": [
       "0   2018-01-02 00:00:33\n",
       "1   2018-01-02 00:01:52\n",
       "2   2018-01-02 00:03:12\n",
       "3   2018-01-02 00:04:30\n",
       "4   2018-01-02 00:05:49\n",
       "Name: time, dtype: datetime64[ns]"
      ]
     },
     "execution_count": 28,
     "metadata": {},
     "output_type": "execute_result"
    }
   ],
   "source": [
    "df['time'].head()"
   ]
  },
  {
   "cell_type": "markdown",
   "metadata": {},
   "source": [
    "Note that a Series object is returned. "
   ]
  },
  {
   "cell_type": "code",
   "execution_count": 9,
   "metadata": {},
   "outputs": [
    {
     "data": {
      "text/plain": [
       "pandas.core.series.Series"
      ]
     },
     "execution_count": 9,
     "metadata": {},
     "output_type": "execute_result"
    }
   ],
   "source": [
    "type(df['time'])"
   ]
  },
  {
   "cell_type": "markdown",
   "metadata": {},
   "source": [
    "You can also pass a list of columns within the **\"[\"** and **\"]\"**"
   ]
  },
  {
   "cell_type": "code",
   "execution_count": 27,
   "metadata": {
    "scrolled": true
   },
   "outputs": [
    {
     "data": {
      "text/html": [
       "<div>\n",
       "<style>\n",
       "    .dataframe thead tr:only-child th {\n",
       "        text-align: right;\n",
       "    }\n",
       "\n",
       "    .dataframe thead th {\n",
       "        text-align: left;\n",
       "    }\n",
       "\n",
       "    .dataframe tbody tr th {\n",
       "        vertical-align: top;\n",
       "    }\n",
       "</style>\n",
       "<table border=\"1\" class=\"dataframe\">\n",
       "  <thead>\n",
       "    <tr style=\"text-align: right;\">\n",
       "      <th></th>\n",
       "      <th>time</th>\n",
       "      <th>temperature_F</th>\n",
       "    </tr>\n",
       "  </thead>\n",
       "  <tbody>\n",
       "    <tr>\n",
       "      <th>0</th>\n",
       "      <td>2018-01-02 00:00:33</td>\n",
       "      <td>11.9</td>\n",
       "    </tr>\n",
       "    <tr>\n",
       "      <th>1</th>\n",
       "      <td>2018-01-02 00:01:52</td>\n",
       "      <td>11.9</td>\n",
       "    </tr>\n",
       "    <tr>\n",
       "      <th>2</th>\n",
       "      <td>2018-01-02 00:03:12</td>\n",
       "      <td>11.9</td>\n",
       "    </tr>\n",
       "    <tr>\n",
       "      <th>3</th>\n",
       "      <td>2018-01-02 00:04:30</td>\n",
       "      <td>12.1</td>\n",
       "    </tr>\n",
       "    <tr>\n",
       "      <th>4</th>\n",
       "      <td>2018-01-02 00:05:49</td>\n",
       "      <td>12.1</td>\n",
       "    </tr>\n",
       "  </tbody>\n",
       "</table>\n",
       "</div>"
      ],
      "text/plain": [
       "                 time  temperature_F\n",
       "0 2018-01-02 00:00:33           11.9\n",
       "1 2018-01-02 00:01:52           11.9\n",
       "2 2018-01-02 00:03:12           11.9\n",
       "3 2018-01-02 00:04:30           12.1\n",
       "4 2018-01-02 00:05:49           12.1"
      ]
     },
     "execution_count": 27,
     "metadata": {},
     "output_type": "execute_result"
    }
   ],
   "source": [
    "df[['time','temperature_F']].head()"
   ]
  },
  {
   "cell_type": "code",
   "execution_count": 11,
   "metadata": {},
   "outputs": [
    {
     "data": {
      "text/plain": [
       "pandas.core.frame.DataFrame"
      ]
     },
     "execution_count": 11,
     "metadata": {},
     "output_type": "execute_result"
    }
   ],
   "source": [
    "type(df[['time','temperature_F']])"
   ]
  },
  {
   "cell_type": "markdown",
   "metadata": {},
   "source": [
    "This time it's a DataFrame object that is returned.This matters for more advanced Pandas functions. For now, I'm just going to point this out for your edification."
   ]
  },
  {
   "cell_type": "markdown",
   "metadata": {},
   "source": [
    "### Manipulating the data"
   ]
  },
  {
   "cell_type": "markdown",
   "metadata": {},
   "source": [
    "Series objects have a method called **apply** that allows you to pass functions (including lambdas) into the Series and apply it to each data point. This is how to convert this Series full of strings into Pandas datetime objects.\n",
    "\n",
    "There are alternative ways to accomplish this but it's a great way to introduce the apply method."
   ]
  },
  {
   "cell_type": "code",
   "execution_count": 26,
   "metadata": {
    "scrolled": true
   },
   "outputs": [
    {
     "data": {
      "text/plain": [
       "0   2018-01-02 00:00:33\n",
       "1   2018-01-02 00:01:52\n",
       "2   2018-01-02 00:03:12\n",
       "3   2018-01-02 00:04:30\n",
       "4   2018-01-02 00:05:49\n",
       "Name: time, dtype: datetime64[ns]"
      ]
     },
     "execution_count": 26,
     "metadata": {},
     "output_type": "execute_result"
    }
   ],
   "source": [
    "df['time'].apply(pd.to_datetime).head()"
   ]
  },
  {
   "cell_type": "markdown",
   "metadata": {},
   "source": [
    "This converted the Series into datetime objects but it is not persistant. If you call the Series again they will still be string objects.\n",
    "\n",
    "This is to help prevent information loss during the data exploration process. "
   ]
  },
  {
   "cell_type": "code",
   "execution_count": 25,
   "metadata": {
    "scrolled": true
   },
   "outputs": [
    {
     "data": {
      "text/plain": [
       "0   2018-01-02 00:00:33\n",
       "1   2018-01-02 00:01:52\n",
       "2   2018-01-02 00:03:12\n",
       "3   2018-01-02 00:04:30\n",
       "4   2018-01-02 00:05:49\n",
       "5   2018-01-02 00:07:09\n",
       "6   2018-01-02 00:08:27\n",
       "7   2018-01-02 00:09:46\n",
       "8   2018-01-02 00:11:05\n",
       "9   2018-01-02 00:12:24\n",
       "Name: time, dtype: datetime64[ns]"
      ]
     },
     "execution_count": 25,
     "metadata": {},
     "output_type": "execute_result"
    }
   ],
   "source": [
    "df['time'].head(10)"
   ]
  },
  {
   "cell_type": "markdown",
   "metadata": {},
   "source": [
    "To keep the changes, you simply store the result of the apply function to the Series object."
   ]
  },
  {
   "cell_type": "code",
   "execution_count": 8,
   "metadata": {
    "scrolled": true
   },
   "outputs": [
    {
     "data": {
      "text/plain": [
       "0   2018-01-02 00:00:33\n",
       "1   2018-01-02 00:01:52\n",
       "2   2018-01-02 00:03:12\n",
       "3   2018-01-02 00:04:30\n",
       "4   2018-01-02 00:05:49\n",
       "Name: time, dtype: datetime64[ns]"
      ]
     },
     "execution_count": 8,
     "metadata": {},
     "output_type": "execute_result"
    }
   ],
   "source": [
    "df['time'] = df['time'].apply(pd.to_datetime)\n",
    "df['time'].head()"
   ]
  },
  {
   "cell_type": "markdown",
   "metadata": {},
   "source": [
    "### Changing the Index"
   ]
  },
  {
   "cell_type": "markdown",
   "metadata": {},
   "source": [
    "The next thing that will help with visulizating this dataset is making the new df['time'] Series the index. The index is essentially the key, in SQL terms, to the various Series objects. \n",
    "\n",
    "To change the index to this DataFrame, call the **pandas.DataFrame.set_index()** method and pass the **df['time']** Series as the argument. "
   ]
  },
  {
   "cell_type": "code",
   "execution_count": 22,
   "metadata": {
    "scrolled": true
   },
   "outputs": [
    {
     "data": {
      "text/html": [
       "<div>\n",
       "<style>\n",
       "    .dataframe thead tr:only-child th {\n",
       "        text-align: right;\n",
       "    }\n",
       "\n",
       "    .dataframe thead th {\n",
       "        text-align: left;\n",
       "    }\n",
       "\n",
       "    .dataframe tbody tr th {\n",
       "        vertical-align: top;\n",
       "    }\n",
       "</style>\n",
       "<table border=\"1\" class=\"dataframe\">\n",
       "  <thead>\n",
       "    <tr style=\"text-align: right;\">\n",
       "      <th></th>\n",
       "      <th>time</th>\n",
       "      <th>channel</th>\n",
       "      <th>temperature_F</th>\n",
       "      <th>humidity</th>\n",
       "    </tr>\n",
       "    <tr>\n",
       "      <th>time</th>\n",
       "      <th></th>\n",
       "      <th></th>\n",
       "      <th></th>\n",
       "      <th></th>\n",
       "    </tr>\n",
       "  </thead>\n",
       "  <tbody>\n",
       "    <tr>\n",
       "      <th>2018-01-02 00:00:33</th>\n",
       "      <td>2018-01-02 00:00:33</td>\n",
       "      <td>8</td>\n",
       "      <td>11.9</td>\n",
       "      <td>46</td>\n",
       "    </tr>\n",
       "    <tr>\n",
       "      <th>2018-01-02 00:01:52</th>\n",
       "      <td>2018-01-02 00:01:52</td>\n",
       "      <td>8</td>\n",
       "      <td>11.9</td>\n",
       "      <td>46</td>\n",
       "    </tr>\n",
       "    <tr>\n",
       "      <th>2018-01-02 00:03:12</th>\n",
       "      <td>2018-01-02 00:03:12</td>\n",
       "      <td>8</td>\n",
       "      <td>11.9</td>\n",
       "      <td>46</td>\n",
       "    </tr>\n",
       "    <tr>\n",
       "      <th>2018-01-02 00:04:30</th>\n",
       "      <td>2018-01-02 00:04:30</td>\n",
       "      <td>8</td>\n",
       "      <td>12.1</td>\n",
       "      <td>46</td>\n",
       "    </tr>\n",
       "    <tr>\n",
       "      <th>2018-01-02 00:05:49</th>\n",
       "      <td>2018-01-02 00:05:49</td>\n",
       "      <td>8</td>\n",
       "      <td>12.1</td>\n",
       "      <td>46</td>\n",
       "    </tr>\n",
       "  </tbody>\n",
       "</table>\n",
       "</div>"
      ],
      "text/plain": [
       "                                   time  channel  temperature_F  humidity\n",
       "time                                                                     \n",
       "2018-01-02 00:00:33 2018-01-02 00:00:33        8           11.9        46\n",
       "2018-01-02 00:01:52 2018-01-02 00:01:52        8           11.9        46\n",
       "2018-01-02 00:03:12 2018-01-02 00:03:12        8           11.9        46\n",
       "2018-01-02 00:04:30 2018-01-02 00:04:30        8           12.1        46\n",
       "2018-01-02 00:05:49 2018-01-02 00:05:49        8           12.1        46"
      ]
     },
     "execution_count": 22,
     "metadata": {},
     "output_type": "execute_result"
    }
   ],
   "source": [
    "df.set_index(df['time']).head()"
   ]
  },
  {
   "cell_type": "markdown",
   "metadata": {},
   "source": [
    "Notice the original **df['time']** column is still intact. Pandas does it's best to preserve information every step of the way. This forces you to explicitly transform the DataFrame when you want to alter it.\n",
    "\n",
    "Also note, the **set_index()** method does not persist. "
   ]
  },
  {
   "cell_type": "code",
   "execution_count": 21,
   "metadata": {
    "scrolled": true
   },
   "outputs": [
    {
     "data": {
      "text/html": [
       "<div>\n",
       "<style>\n",
       "    .dataframe thead tr:only-child th {\n",
       "        text-align: right;\n",
       "    }\n",
       "\n",
       "    .dataframe thead th {\n",
       "        text-align: left;\n",
       "    }\n",
       "\n",
       "    .dataframe tbody tr th {\n",
       "        vertical-align: top;\n",
       "    }\n",
       "</style>\n",
       "<table border=\"1\" class=\"dataframe\">\n",
       "  <thead>\n",
       "    <tr style=\"text-align: right;\">\n",
       "      <th></th>\n",
       "      <th>time</th>\n",
       "      <th>channel</th>\n",
       "      <th>temperature_F</th>\n",
       "      <th>humidity</th>\n",
       "    </tr>\n",
       "  </thead>\n",
       "  <tbody>\n",
       "    <tr>\n",
       "      <th>0</th>\n",
       "      <td>2018-01-02 00:00:33</td>\n",
       "      <td>8</td>\n",
       "      <td>11.9</td>\n",
       "      <td>46</td>\n",
       "    </tr>\n",
       "    <tr>\n",
       "      <th>1</th>\n",
       "      <td>2018-01-02 00:01:52</td>\n",
       "      <td>8</td>\n",
       "      <td>11.9</td>\n",
       "      <td>46</td>\n",
       "    </tr>\n",
       "    <tr>\n",
       "      <th>2</th>\n",
       "      <td>2018-01-02 00:03:12</td>\n",
       "      <td>8</td>\n",
       "      <td>11.9</td>\n",
       "      <td>46</td>\n",
       "    </tr>\n",
       "    <tr>\n",
       "      <th>3</th>\n",
       "      <td>2018-01-02 00:04:30</td>\n",
       "      <td>8</td>\n",
       "      <td>12.1</td>\n",
       "      <td>46</td>\n",
       "    </tr>\n",
       "    <tr>\n",
       "      <th>4</th>\n",
       "      <td>2018-01-02 00:05:49</td>\n",
       "      <td>8</td>\n",
       "      <td>12.1</td>\n",
       "      <td>46</td>\n",
       "    </tr>\n",
       "  </tbody>\n",
       "</table>\n",
       "</div>"
      ],
      "text/plain": [
       "                 time  channel  temperature_F  humidity\n",
       "0 2018-01-02 00:00:33        8           11.9        46\n",
       "1 2018-01-02 00:01:52        8           11.9        46\n",
       "2 2018-01-02 00:03:12        8           11.9        46\n",
       "3 2018-01-02 00:04:30        8           12.1        46\n",
       "4 2018-01-02 00:05:49        8           12.1        46"
      ]
     },
     "execution_count": 21,
     "metadata": {},
     "output_type": "execute_result"
    }
   ],
   "source": [
    "df.head()"
   ]
  },
  {
   "cell_type": "code",
   "execution_count": 9,
   "metadata": {
    "collapsed": true
   },
   "outputs": [],
   "source": [
    "df = df.set_index(df['time'])"
   ]
  },
  {
   "cell_type": "code",
   "execution_count": 30,
   "metadata": {},
   "outputs": [
    {
     "data": {
      "text/html": [
       "<div>\n",
       "<style>\n",
       "    .dataframe thead tr:only-child th {\n",
       "        text-align: right;\n",
       "    }\n",
       "\n",
       "    .dataframe thead th {\n",
       "        text-align: left;\n",
       "    }\n",
       "\n",
       "    .dataframe tbody tr th {\n",
       "        vertical-align: top;\n",
       "    }\n",
       "</style>\n",
       "<table border=\"1\" class=\"dataframe\">\n",
       "  <thead>\n",
       "    <tr style=\"text-align: right;\">\n",
       "      <th></th>\n",
       "      <th>time</th>\n",
       "      <th>channel</th>\n",
       "      <th>temperature_F</th>\n",
       "      <th>humidity</th>\n",
       "    </tr>\n",
       "    <tr>\n",
       "      <th>time</th>\n",
       "      <th></th>\n",
       "      <th></th>\n",
       "      <th></th>\n",
       "      <th></th>\n",
       "    </tr>\n",
       "  </thead>\n",
       "  <tbody>\n",
       "    <tr>\n",
       "      <th>2018-01-02 00:00:33</th>\n",
       "      <td>2018-01-02 00:00:33</td>\n",
       "      <td>8</td>\n",
       "      <td>11.9</td>\n",
       "      <td>46</td>\n",
       "    </tr>\n",
       "    <tr>\n",
       "      <th>2018-01-02 00:01:52</th>\n",
       "      <td>2018-01-02 00:01:52</td>\n",
       "      <td>8</td>\n",
       "      <td>11.9</td>\n",
       "      <td>46</td>\n",
       "    </tr>\n",
       "    <tr>\n",
       "      <th>2018-01-02 00:03:12</th>\n",
       "      <td>2018-01-02 00:03:12</td>\n",
       "      <td>8</td>\n",
       "      <td>11.9</td>\n",
       "      <td>46</td>\n",
       "    </tr>\n",
       "    <tr>\n",
       "      <th>2018-01-02 00:04:30</th>\n",
       "      <td>2018-01-02 00:04:30</td>\n",
       "      <td>8</td>\n",
       "      <td>12.1</td>\n",
       "      <td>46</td>\n",
       "    </tr>\n",
       "    <tr>\n",
       "      <th>2018-01-02 00:05:49</th>\n",
       "      <td>2018-01-02 00:05:49</td>\n",
       "      <td>8</td>\n",
       "      <td>12.1</td>\n",
       "      <td>46</td>\n",
       "    </tr>\n",
       "  </tbody>\n",
       "</table>\n",
       "</div>"
      ],
      "text/plain": [
       "                                   time  channel  temperature_F  humidity\n",
       "time                                                                     \n",
       "2018-01-02 00:00:33 2018-01-02 00:00:33        8           11.9        46\n",
       "2018-01-02 00:01:52 2018-01-02 00:01:52        8           11.9        46\n",
       "2018-01-02 00:03:12 2018-01-02 00:03:12        8           11.9        46\n",
       "2018-01-02 00:04:30 2018-01-02 00:04:30        8           12.1        46\n",
       "2018-01-02 00:05:49 2018-01-02 00:05:49        8           12.1        46"
      ]
     },
     "execution_count": 30,
     "metadata": {},
     "output_type": "execute_result"
    }
   ],
   "source": [
    "df.head()"
   ]
  },
  {
   "cell_type": "markdown",
   "metadata": {},
   "source": [
    "To remove, or drop, this now defunct df['time'] Series, DataFrames have a drop method. The main argument is either a single string of the Index or Column name. It also uses the \"axis\" argument to determine if you are refering to the Index or the Column. Axis 0 is the Index and Axis 1 is the Column"
   ]
  },
  {
   "cell_type": "code",
   "execution_count": 10,
   "metadata": {},
   "outputs": [
    {
     "data": {
      "text/html": [
       "<div>\n",
       "<style>\n",
       "    .dataframe thead tr:only-child th {\n",
       "        text-align: right;\n",
       "    }\n",
       "\n",
       "    .dataframe thead th {\n",
       "        text-align: left;\n",
       "    }\n",
       "\n",
       "    .dataframe tbody tr th {\n",
       "        vertical-align: top;\n",
       "    }\n",
       "</style>\n",
       "<table border=\"1\" class=\"dataframe\">\n",
       "  <thead>\n",
       "    <tr style=\"text-align: right;\">\n",
       "      <th></th>\n",
       "      <th>channel</th>\n",
       "      <th>temperature_F</th>\n",
       "      <th>humidity</th>\n",
       "    </tr>\n",
       "    <tr>\n",
       "      <th>time</th>\n",
       "      <th></th>\n",
       "      <th></th>\n",
       "      <th></th>\n",
       "    </tr>\n",
       "  </thead>\n",
       "  <tbody>\n",
       "    <tr>\n",
       "      <th>2018-01-02 00:00:33</th>\n",
       "      <td>8</td>\n",
       "      <td>11.9</td>\n",
       "      <td>46</td>\n",
       "    </tr>\n",
       "    <tr>\n",
       "      <th>2018-01-02 00:01:52</th>\n",
       "      <td>8</td>\n",
       "      <td>11.9</td>\n",
       "      <td>46</td>\n",
       "    </tr>\n",
       "    <tr>\n",
       "      <th>2018-01-02 00:03:12</th>\n",
       "      <td>8</td>\n",
       "      <td>11.9</td>\n",
       "      <td>46</td>\n",
       "    </tr>\n",
       "    <tr>\n",
       "      <th>2018-01-02 00:04:30</th>\n",
       "      <td>8</td>\n",
       "      <td>12.1</td>\n",
       "      <td>46</td>\n",
       "    </tr>\n",
       "    <tr>\n",
       "      <th>2018-01-02 00:05:49</th>\n",
       "      <td>8</td>\n",
       "      <td>12.1</td>\n",
       "      <td>46</td>\n",
       "    </tr>\n",
       "  </tbody>\n",
       "</table>\n",
       "</div>"
      ],
      "text/plain": [
       "                     channel  temperature_F  humidity\n",
       "time                                                 \n",
       "2018-01-02 00:00:33        8           11.9        46\n",
       "2018-01-02 00:01:52        8           11.9        46\n",
       "2018-01-02 00:03:12        8           11.9        46\n",
       "2018-01-02 00:04:30        8           12.1        46\n",
       "2018-01-02 00:05:49        8           12.1        46"
      ]
     },
     "execution_count": 10,
     "metadata": {},
     "output_type": "execute_result"
    }
   ],
   "source": [
    "df.drop('time',axis=1).head()"
   ]
  },
  {
   "cell_type": "markdown",
   "metadata": {},
   "source": [
    "Again, this is not persistant."
   ]
  },
  {
   "cell_type": "code",
   "execution_count": 35,
   "metadata": {},
   "outputs": [
    {
     "data": {
      "text/html": [
       "<div>\n",
       "<style>\n",
       "    .dataframe thead tr:only-child th {\n",
       "        text-align: right;\n",
       "    }\n",
       "\n",
       "    .dataframe thead th {\n",
       "        text-align: left;\n",
       "    }\n",
       "\n",
       "    .dataframe tbody tr th {\n",
       "        vertical-align: top;\n",
       "    }\n",
       "</style>\n",
       "<table border=\"1\" class=\"dataframe\">\n",
       "  <thead>\n",
       "    <tr style=\"text-align: right;\">\n",
       "      <th></th>\n",
       "      <th>time</th>\n",
       "      <th>channel</th>\n",
       "      <th>temperature_F</th>\n",
       "      <th>humidity</th>\n",
       "    </tr>\n",
       "    <tr>\n",
       "      <th>time</th>\n",
       "      <th></th>\n",
       "      <th></th>\n",
       "      <th></th>\n",
       "      <th></th>\n",
       "    </tr>\n",
       "  </thead>\n",
       "  <tbody>\n",
       "    <tr>\n",
       "      <th>2018-01-02 00:00:33</th>\n",
       "      <td>2018-01-02 00:00:33</td>\n",
       "      <td>8</td>\n",
       "      <td>11.9</td>\n",
       "      <td>46</td>\n",
       "    </tr>\n",
       "    <tr>\n",
       "      <th>2018-01-02 00:01:52</th>\n",
       "      <td>2018-01-02 00:01:52</td>\n",
       "      <td>8</td>\n",
       "      <td>11.9</td>\n",
       "      <td>46</td>\n",
       "    </tr>\n",
       "    <tr>\n",
       "      <th>2018-01-02 00:03:12</th>\n",
       "      <td>2018-01-02 00:03:12</td>\n",
       "      <td>8</td>\n",
       "      <td>11.9</td>\n",
       "      <td>46</td>\n",
       "    </tr>\n",
       "    <tr>\n",
       "      <th>2018-01-02 00:04:30</th>\n",
       "      <td>2018-01-02 00:04:30</td>\n",
       "      <td>8</td>\n",
       "      <td>12.1</td>\n",
       "      <td>46</td>\n",
       "    </tr>\n",
       "    <tr>\n",
       "      <th>2018-01-02 00:05:49</th>\n",
       "      <td>2018-01-02 00:05:49</td>\n",
       "      <td>8</td>\n",
       "      <td>12.1</td>\n",
       "      <td>46</td>\n",
       "    </tr>\n",
       "  </tbody>\n",
       "</table>\n",
       "</div>"
      ],
      "text/plain": [
       "                                   time  channel  temperature_F  humidity\n",
       "time                                                                     \n",
       "2018-01-02 00:00:33 2018-01-02 00:00:33        8           11.9        46\n",
       "2018-01-02 00:01:52 2018-01-02 00:01:52        8           11.9        46\n",
       "2018-01-02 00:03:12 2018-01-02 00:03:12        8           11.9        46\n",
       "2018-01-02 00:04:30 2018-01-02 00:04:30        8           12.1        46\n",
       "2018-01-02 00:05:49 2018-01-02 00:05:49        8           12.1        46"
      ]
     },
     "execution_count": 35,
     "metadata": {},
     "output_type": "execute_result"
    }
   ],
   "source": [
    "df.head()"
   ]
  },
  {
   "cell_type": "markdown",
   "metadata": {},
   "source": [
    "The is an additional argument in the drop method called **inplace**. You can pass the bool **True** and the dropped columns will be permanently dropped."
   ]
  },
  {
   "cell_type": "code",
   "execution_count": 11,
   "metadata": {
    "collapsed": true
   },
   "outputs": [],
   "source": [
    "df.drop('time',axis=1,inplace=True)"
   ]
  },
  {
   "cell_type": "code",
   "execution_count": 37,
   "metadata": {},
   "outputs": [
    {
     "data": {
      "text/html": [
       "<div>\n",
       "<style>\n",
       "    .dataframe thead tr:only-child th {\n",
       "        text-align: right;\n",
       "    }\n",
       "\n",
       "    .dataframe thead th {\n",
       "        text-align: left;\n",
       "    }\n",
       "\n",
       "    .dataframe tbody tr th {\n",
       "        vertical-align: top;\n",
       "    }\n",
       "</style>\n",
       "<table border=\"1\" class=\"dataframe\">\n",
       "  <thead>\n",
       "    <tr style=\"text-align: right;\">\n",
       "      <th></th>\n",
       "      <th>channel</th>\n",
       "      <th>temperature_F</th>\n",
       "      <th>humidity</th>\n",
       "    </tr>\n",
       "    <tr>\n",
       "      <th>time</th>\n",
       "      <th></th>\n",
       "      <th></th>\n",
       "      <th></th>\n",
       "    </tr>\n",
       "  </thead>\n",
       "  <tbody>\n",
       "    <tr>\n",
       "      <th>2018-01-02 00:00:33</th>\n",
       "      <td>8</td>\n",
       "      <td>11.9</td>\n",
       "      <td>46</td>\n",
       "    </tr>\n",
       "    <tr>\n",
       "      <th>2018-01-02 00:01:52</th>\n",
       "      <td>8</td>\n",
       "      <td>11.9</td>\n",
       "      <td>46</td>\n",
       "    </tr>\n",
       "    <tr>\n",
       "      <th>2018-01-02 00:03:12</th>\n",
       "      <td>8</td>\n",
       "      <td>11.9</td>\n",
       "      <td>46</td>\n",
       "    </tr>\n",
       "    <tr>\n",
       "      <th>2018-01-02 00:04:30</th>\n",
       "      <td>8</td>\n",
       "      <td>12.1</td>\n",
       "      <td>46</td>\n",
       "    </tr>\n",
       "    <tr>\n",
       "      <th>2018-01-02 00:05:49</th>\n",
       "      <td>8</td>\n",
       "      <td>12.1</td>\n",
       "      <td>46</td>\n",
       "    </tr>\n",
       "  </tbody>\n",
       "</table>\n",
       "</div>"
      ],
      "text/plain": [
       "                     channel  temperature_F  humidity\n",
       "time                                                 \n",
       "2018-01-02 00:00:33        8           11.9        46\n",
       "2018-01-02 00:01:52        8           11.9        46\n",
       "2018-01-02 00:03:12        8           11.9        46\n",
       "2018-01-02 00:04:30        8           12.1        46\n",
       "2018-01-02 00:05:49        8           12.1        46"
      ]
     },
     "execution_count": 37,
     "metadata": {},
     "output_type": "execute_result"
    }
   ],
   "source": [
    "df.head()"
   ]
  },
  {
   "cell_type": "markdown",
   "metadata": {},
   "source": [
    "### Plotting the data"
   ]
  },
  {
   "cell_type": "markdown",
   "metadata": {},
   "source": [
    "Pandas has built-in visulization methods that tie directly into the matplotlib library. There are some slight changes to the methods' signatures but overall there are many similar features.\n",
    "\n",
    "To plot a simple line graph, the **pandas.DataFrame.plot()** method will work on all of the numerical data passed in the *self* DataFrame/Series object."
   ]
  },
  {
   "cell_type": "code",
   "execution_count": 40,
   "metadata": {},
   "outputs": [
    {
     "data": {
      "text/plain": [
       "<matplotlib.axes._subplots.AxesSubplot at 0x25d016b6240>"
      ]
     },
     "execution_count": 40,
     "metadata": {},
     "output_type": "execute_result"
    },
    {
     "data": {
      "image/png": "[encoded data removed]",
      "text/plain": [
       "<matplotlib.figure.Figure at 0x25d015b5ba8>"
      ]
     },
     "metadata": {},
     "output_type": "display_data"
    }
   ],
   "source": [
    "df.plot()"
   ]
  },
  {
   "cell_type": "markdown",
   "metadata": {},
   "source": [
    "Note that each column was passed as the \"y\" values and the Index was passes as the \"x\" axis.\n",
    "\n",
    "This plot has some extra information that isn't very helpful. Let's pull out the **channel** Series and see what the new plot looks like. Remember, you can pass a list of column names to explicitly reduce your data passed to the method."
   ]
  },
  {
   "cell_type": "code",
   "execution_count": 42,
   "metadata": {},
   "outputs": [
    {
     "data": {
      "text/plain": [
       "<matplotlib.axes._subplots.AxesSubplot at 0x25d01bfc8d0>"
      ]
     },
     "execution_count": 42,
     "metadata": {},
     "output_type": "execute_result"
    },
    {
     "data": {
      "image/png": "[encoded data removed]",
      "text/plain": [
       "<matplotlib.figure.Figure at 0x25d01beb940>"
      ]
     },
     "metadata": {},
     "output_type": "display_data"
    }
   ],
   "source": [
    "df[['temperature_F','humidity']].plot()"
   ]
  },
  {
   "cell_type": "markdown",
   "metadata": {},
   "source": [
    "This plot is far more meaningful. You can also pass a single Series for further data isolation."
   ]
  },
  {
   "cell_type": "code",
   "execution_count": 43,
   "metadata": {},
   "outputs": [
    {
     "data": {
      "text/plain": [
       "<matplotlib.axes._subplots.AxesSubplot at 0x25d01c07400>"
      ]
     },
     "execution_count": 43,
     "metadata": {},
     "output_type": "execute_result"
    },
    {
     "data": {
      "image/png": "[encoded data removed]",
      "text/plain": [
       "<matplotlib.figure.Figure at 0x25d01f12550>"
      ]
     },
     "metadata": {},
     "output_type": "display_data"
    }
   ],
   "source": [
    "df['temperature_F'].plot()"
   ]
  },
  {
   "cell_type": "markdown",
   "metadata": {},
   "source": [
    "Notice the scale of the plot changed to fit the range of the dataset. "
   ]
  },
  {
   "cell_type": "markdown",
   "metadata": {},
   "source": [
    "These plots are not the most legible at their current size. You can pass as an argument **figsize** which takes in (X, Y) pixel lengths."
   ]
  },
  {
   "cell_type": "code",
   "execution_count": 46,
   "metadata": {},
   "outputs": [
    {
     "data": {
      "text/plain": [
       "<matplotlib.axes._subplots.AxesSubplot at 0x25d0200a198>"
      ]
     },
     "execution_count": 46,
     "metadata": {},
     "output_type": "execute_result"
    },
    {
     "data": {
      "image/png": "[encoded data removed]",
      "text/plain": [
       "<matplotlib.figure.Figure at 0x25d0201c7f0>"
      ]
     },
     "metadata": {},
     "output_type": "display_data"
    }
   ],
   "source": [
    "df['temperature_F'].plot(figsize=(10,8))"
   ]
  },
  {
   "cell_type": "markdown",
   "metadata": {},
   "source": [
    "There are so many other features within matplotlib that I strongly recommend checking out the documentation and videos on YouTube. For now, I'm going to show you how to change the color, line width, and overall plot style"
   ]
  },
  {
   "cell_type": "markdown",
   "metadata": {},
   "source": [
    "** 1. Changing line color**\n",
    "<p> Pass the **color** argument with a color string like \"red\" or \"blue\""
   ]
  },
  {
   "cell_type": "code",
   "execution_count": 62,
   "metadata": {},
   "outputs": [
    {
     "data": {
      "text/plain": [
       "<matplotlib.axes._subplots.AxesSubplot at 0x25d02b7f080>"
      ]
     },
     "execution_count": 62,
     "metadata": {},
     "output_type": "execute_result"
    },
    {
     "data": {
      "image/png": "[encoded data removed]",
      "text/plain": [
       "<matplotlib.figure.Figure at 0x25d0246f5f8>"
      ]
     },
     "metadata": {},
     "output_type": "display_data"
    }
   ],
   "source": [
    "df['temperature_F'].plot(figsize=(10,8), color='red')"
   ]
  },
  {
   "cell_type": "markdown",
   "metadata": {},
   "source": [
    "You can also pass hex color values"
   ]
  },
  {
   "cell_type": "code",
   "execution_count": 64,
   "metadata": {},
   "outputs": [
    {
     "data": {
      "text/plain": [
       "<matplotlib.axes._subplots.AxesSubplot at 0x25d030a6f60>"
      ]
     },
     "execution_count": 64,
     "metadata": {},
     "output_type": "execute_result"
    },
    {
     "data": {
      "image/png": "[encoded data removed]",
      "text/plain": [
       "<matplotlib.figure.Figure at 0x25d02478e48>"
      ]
     },
     "metadata": {},
     "output_type": "display_data"
    }
   ],
   "source": [
    "df['temperature_F'].plot(figsize=(10,8), color='#000000')"
   ]
  },
  {
   "cell_type": "markdown",
   "metadata": {},
   "source": [
    "**2. Line thickness**\n",
    "<p>To change the line thickness, use the **lw** argument and pass an decimal number"
   ]
  },
  {
   "cell_type": "code",
   "execution_count": 69,
   "metadata": {},
   "outputs": [
    {
     "data": {
      "text/plain": [
       "<matplotlib.axes._subplots.AxesSubplot at 0x25d031a1518>"
      ]
     },
     "execution_count": 69,
     "metadata": {},
     "output_type": "execute_result"
    },
    {
     "data": {
      "image/png": "[encoded data removed]",
      "text/plain": [
       "<matplotlib.figure.Figure at 0x25d031ac438>"
      ]
     },
     "metadata": {},
     "output_type": "display_data"
    }
   ],
   "source": [
    "df['temperature_F'].plot(figsize=(5,4), color='#000000', lw=3)"
   ]
  },
  {
   "cell_type": "code",
   "execution_count": 70,
   "metadata": {},
   "outputs": [
    {
     "data": {
      "text/plain": [
       "<matplotlib.axes._subplots.AxesSubplot at 0x25d031acba8>"
      ]
     },
     "execution_count": 70,
     "metadata": {},
     "output_type": "execute_result"
    },
    {
     "data": {
      "image/png": "[encoded data removed]",
      "text/plain": [
       "<matplotlib.figure.Figure at 0x25d031e5748>"
      ]
     },
     "metadata": {},
     "output_type": "display_data"
    }
   ],
   "source": [
    "df['temperature_F'].plot(figsize=(5,4), color='#000000', lw=1.4)"
   ]
  },
  {
   "cell_type": "markdown",
   "metadata": {},
   "source": [
    "** 3. Styling**\n",
    "<p>Matplotlib.pyplot has style module that be leveraged to make large scale style changes to all of the future plots."
   ]
  },
  {
   "cell_type": "code",
   "execution_count": 72,
   "metadata": {
    "collapsed": true
   },
   "outputs": [],
   "source": [
    "plt.style.use('ggplot')"
   ]
  },
  {
   "cell_type": "code",
   "execution_count": 74,
   "metadata": {},
   "outputs": [
    {
     "data": {
      "text/plain": [
       "<matplotlib.axes._subplots.AxesSubplot at 0x25d031902b0>"
      ]
     },
     "execution_count": 74,
     "metadata": {},
     "output_type": "execute_result"
    },
    {
     "data": {
      "image/png": "[encoded data removed]",
      "text/plain": [
       "<matplotlib.figure.Figure at 0x25d04817e10>"
      ]
     },
     "metadata": {},
     "output_type": "display_data"
    }
   ],
   "source": [
    "df['temperature_F'].plot(figsize=(10,8))"
   ]
  },
  {
   "cell_type": "markdown",
   "metadata": {},
   "source": [
    "There is a whole reference page to these styles.\n",
    "https://matplotlib.org/devdocs/gallery/style_sheets/style_sheets_reference.html"
   ]
  },
  {
   "cell_type": "markdown",
   "metadata": {},
   "source": [
    "### Teaser"
   ]
  },
  {
   "cell_type": "markdown",
   "metadata": {},
   "source": [
    "There is so much to dig into with Pandas and Matplotlib. Below is an example of using the subplot functionality that enables multiple axes to be plotted within a larger figure object. Pandas makes it easy to call a default presentation but I strongly encourage diving into Matplotlib to learn about the figure object implimentation. "
   ]
  },
  {
   "cell_type": "code",
   "execution_count": 76,
   "metadata": {},
   "outputs": [
    {
     "data": {
      "text/plain": [
       "array([[<matplotlib.axes._subplots.AxesSubplot object at 0x0000025D0493EC18>,\n",
       "        <matplotlib.axes._subplots.AxesSubplot object at 0x0000025D049C8278>],\n",
       "       [<matplotlib.axes._subplots.AxesSubplot object at 0x0000025D049FD240>,\n",
       "        <matplotlib.axes._subplots.AxesSubplot object at 0x0000025D04A174E0>]], dtype=object)"
      ]
     },
     "execution_count": 76,
     "metadata": {},
     "output_type": "execute_result"
    },
    {
     "data": {
      "image/png": "[encoded data removed]",
      "text/plain": [
       "<matplotlib.figure.Figure at 0x25d048b4358>"
      ]
     },
     "metadata": {},
     "output_type": "display_data"
    }
   ],
   "source": [
    "df.hist(figsize=(10,8))"
   ]
  },
  {
   "cell_type": "markdown",
   "metadata": {},
   "source": [
    "# Have fun exploring!"
   ]
  }
 ],
 "metadata": {
  "kernelspec": {
   "display_name": "Python 3",
   "language": "python",
   "name": "python3"
  },
  "language_info": {
   "codemirror_mode": {
    "name": "ipython",
    "version": 3
   },
   "file_extension": ".py",
   "mimetype": "text/x-python",
   "name": "python",
   "nbconvert_exporter": "python",
   "pygments_lexer": "ipython3",
   "version": "3.6.3"
  }
 },
 "nbformat": 4,
 "nbformat_minor": 2
}
